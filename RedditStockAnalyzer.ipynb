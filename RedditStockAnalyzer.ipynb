{
 "cells": [
  {
   "cell_type": "markdown",
   "id": "008a554c-c47f-4c43-a751-c38a8276f443",
   "metadata": {},
   "source": [
    "# Riley Brady, Martin Manion, Section 001\n",
    "## Reddit Sentiment Stock Analyzer"
   ]
  },
  {
   "cell_type": "markdown",
   "id": "34f41af4-dde6-4044-ac52-a8a84b54cefd",
   "metadata": {},
   "source": [
    "### Imports"
   ]
  },
  {
   "cell_type": "code",
   "execution_count": 131,
   "id": "85a29f22-a3b0-432a-a5d3-0f5334b3fc37",
   "metadata": {},
   "outputs": [
    {
     "name": "stderr",
     "output_type": "stream",
     "text": [
      "[nltk_data] Downloading package vader_lexicon to\n",
      "[nltk_data]     C:\\Users\\riley\\AppData\\Roaming\\nltk_data...\n",
      "[nltk_data]   Package vader_lexicon is already up-to-date!\n"
     ]
    }
   ],
   "source": [
    "import requests\n",
    "import pandas as pd\n",
    "import datetime as dt\n",
    "import numpy as np\n",
    "import nltk\n",
    "import matplotlib.pyplot as plt\n",
    "from nltk.sentiment import SentimentIntensityAnalyzer\n",
    "nDownload = nltk.download('vader_lexicon')\n",
    "sia = SentimentIntensityAnalyzer()"
   ]
  },
  {
   "cell_type": "markdown",
   "id": "7fcc97a2-cfb7-4b6b-b337-e7d3359a21d2",
   "metadata": {},
   "source": [
    "### Functions"
   ]
  },
  {
   "cell_type": "code",
   "execution_count": 2,
   "id": "ff5592a2-e68f-4c70-a92c-59c2737b244b",
   "metadata": {},
   "outputs": [],
   "source": [
    "def getURLdata(url, options='',json=True):\n",
    "    try:\n",
    "        response = requests.get(url, options)\n",
    "        if not json and response:\n",
    "            response.encoding = 'utf-8'\n",
    "            return response.text\n",
    "        if response.status_code != 200:\n",
    "            raise\n",
    "        data = response.json()\n",
    "        return data\n",
    "    except:\n",
    "        print(\"API call was not successful.\")\n",
    "        return None"
   ]
  },
  {
   "cell_type": "code",
   "execution_count": 3,
   "id": "63e71af4-a188-46ac-a355-3107506b3539",
   "metadata": {},
   "outputs": [],
   "source": [
    "#For AlphaVantage data: transform the recieved data into a well-formed dataframe\n",
    "def transform(dataset):\n",
    "    #convert recieved data into a dataframe called df\n",
    "    datafr = pd.DataFrame(dataset['Time Series (Daily)']).transpose()\n",
    "    \n",
    "    #convert the index of the dataframe into a date object\n",
    "    datafr.index = pd.to_datetime(datafr.index)\n",
    "    datafr.reset_index(inplace=True)\n",
    "\n",
    "    #rename columns of the dataframe\n",
    "    datafr.rename(columns = {'index': 'DATE', '1. open':'OPEN', '2. high':'HIGH', '3. low':\"LOW\", '4. close':\"CLOSE\", '5. adjusted close':'ADJ CLOSE', '6. volume':'VOLUME', '7. dividend amount':'DIVIDEND', '8. split coefficient':'SPLIT COEF'}, inplace = True) \n",
    "       \n",
    "    return datafr"
   ]
  },
  {
   "cell_type": "code",
   "execution_count": 4,
   "id": "7bc87f77-0907-4aa8-b33d-5ff1b2961216",
   "metadata": {},
   "outputs": [],
   "source": [
    "#Prompts the user to enter a stock ticker, and calls the AlphaVantage API to see if it gets data.\n",
    "#If the call is successful, then the function returns the stock ticker and the API data.\n",
    "def getTicker():\n",
    "    while True:\n",
    "        stock = input('Enter a stock to analyze:')\n",
    "        opts = {\n",
    "            'apikey': 'J9DNBJ9PBMG4O5DW', \n",
    "            'function':'TIME_SERIES_DAILY_ADJUSTED', \n",
    "            'symbol': stock,\n",
    "            'outputsize':'full'}\n",
    "        endpoint = \"https://www.alphavantage.co/query\"\n",
    "        data = getURLdata(endpoint,opts)\n",
    "        try:\n",
    "            test = data['Error Message']\n",
    "            print('Not a valid stock ticker. Please enter a valid ticker.')\n",
    "        except KeyError: #If the ticker is valid, then there will be no error message.\n",
    "            break\n",
    "    return stock.upper(), data"
   ]
  },
  {
   "cell_type": "code",
   "execution_count": 74,
   "id": "d8599971-72cf-4f55-a87e-a12c1e239b0e",
   "metadata": {},
   "outputs": [],
   "source": [
    "#A function for getting a date from user input.\n",
    "def getUserDate():\n",
    "    print('Enter a starting date for the analysis, or press enter to analyze the most recent data.')\n",
    "    while True:\n",
    "        inpDate = input('Enter the date in the format MM-DD-YYYY:')\n",
    "        if inpDate == '':\n",
    "            return None\n",
    "        try:\n",
    "            inpDT = dt.datetime.date(dt.datetime.strptime(inpDate, '%m-%d-%Y'))\n",
    "            return inpDT\n",
    "        except ValueError:\n",
    "            print('Not a valid date. Please enter a date in the specified format.')"
   ]
  },
  {
   "cell_type": "code",
   "execution_count": 158,
   "id": "e0a7bdcf-41b3-498f-8a4e-2716b0d9c448",
   "metadata": {},
   "outputs": [],
   "source": [
    "#Gets the Reddit data from the Pushshift API\n",
    "#Pushshift API documentation: https://github.com/pushshift/api\n",
    "def getRedditData(stockTicker, subs):\n",
    "    commentURL = 'https://api.pushshift.io/reddit/search/comment/'\n",
    "    postURL = 'https://api.pushshift.io/reddit/search/submission/'\n",
    "    options = {\n",
    "        'subreddit': subs,\n",
    "        'fields': {'created_utc', 'body'},\n",
    "        'q': stockTicker,\n",
    "        'size': 500\n",
    "    }\n",
    "    uDate = getUserDate()\n",
    "    if uDate != None:\n",
    "        options['after'] = str((dt.datetime.date(dt.datetime.now()) - uDate).days) + 'd'\n",
    "    return getURLdata(commentURL, options)"
   ]
  },
  {
   "cell_type": "markdown",
   "id": "73e7a7b1-c93a-42f2-a89c-0301e56e9f1f",
   "metadata": {},
   "source": [
    "### Start of Code"
   ]
  },
  {
   "cell_type": "code",
   "execution_count": 238,
   "id": "0579d4ed-7318-46ed-a256-f36c9550996b",
   "metadata": {},
   "outputs": [
    {
     "name": "stdin",
     "output_type": "stream",
     "text": [
      "Enter a stock to analyze: etsy\n"
     ]
    },
    {
     "name": "stdout",
     "output_type": "stream",
     "text": [
      "Enter a starting date for the analysis, or press enter to analyze the most recent data.\n"
     ]
    },
    {
     "name": "stdin",
     "output_type": "stream",
     "text": [
      "Enter the date in the format MM-DD-YYYY: 12-1\n"
     ]
    },
    {
     "name": "stdout",
     "output_type": "stream",
     "text": [
      "Not a valid date. Please enter a date in the specified format.\n"
     ]
    },
    {
     "name": "stdin",
     "output_type": "stream",
     "text": [
      "Enter the date in the format MM-DD-YYYY: 12-01-2021\n"
     ]
    }
   ],
   "source": [
    "#Creates data frames for the Pushshift and AlphaVantage API datasets.\n",
    "subreddits = {'wallstreetbets', 'stocks', 'investing', 'pennystocks', 'robinhood'} #Change to include preferred subreddits\n",
    "ticker, avData = getTicker()\n",
    "avdf = transform(avData)\n",
    "rData = getRedditData(ticker, subreddits)\n",
    "rdf = pd.DataFrame(rData['data'])"
   ]
  },
  {
   "cell_type": "code",
   "execution_count": 239,
   "id": "594c1250-7345-4503-af2c-0b4b71c51ac6",
   "metadata": {
    "tags": []
   },
   "outputs": [],
   "source": [
    "#Creating a column with the date for each comment\n",
    "rdf['date'] = [dt.datetime.date(dt.datetime.fromtimestamp(rdf['created_utc'][i])) for i in range(len(rdf))]"
   ]
  },
  {
   "cell_type": "code",
   "execution_count": 240,
   "id": "5c67c11e-4083-4e99-8620-5d0783d7ea23",
   "metadata": {},
   "outputs": [],
   "source": [
    "#Creating a column containing the sentiment score (-1 to 1) for each Reddit comment,\n",
    "#and creating a new dataframe that averages the scores over multiple dates to get one score\n",
    "#per date\n",
    "rdf['score'] = [sia.polarity_scores(rdf['body'][i])['compound'] for i in range(len(rdf))]\n",
    "nrdf = rdf.groupby('date').mean().drop('created_utc', axis = 1)\n",
    "nrdf = nrdf.reset_index().rename(columns = {'date': 'DATE'})\n",
    "nrdf['DATE'] = pd.to_datetime(nrdf['DATE'])"
   ]
  },
  {
   "cell_type": "code",
   "execution_count": 241,
   "id": "735c54eb-c755-4094-8e08-571fe5cd930c",
   "metadata": {},
   "outputs": [
    {
     "name": "stderr",
     "output_type": "stream",
     "text": [
      "C:\\Users\\riley\\AppData\\Local\\Temp/ipykernel_40568/3594869430.py:6: SettingWithCopyWarning: \n",
      "A value is trying to be set on a copy of a slice from a DataFrame\n",
      "\n",
      "See the caveats in the documentation: https://pandas.pydata.org/pandas-docs/stable/user_guide/indexing.html#returning-a-view-versus-a-copy\n",
      "  avdf['CHANGE'][i] = avdf['ADJ CLOSE'][i] - avdf['ADJ CLOSE'][i+1]\n"
     ]
    }
   ],
   "source": [
    "#Creating columns for the daily change and daily return in the stock price\n",
    "avdf['ADJ CLOSE'] = avdf['ADJ CLOSE'].astype(float)\n",
    "avdf['CHANGE'] = [None for i in range(len(avdf))]\n",
    "for i in range(len(avdf)):\n",
    "    try:\n",
    "        avdf['CHANGE'][i] = avdf['ADJ CLOSE'][i] - avdf['ADJ CLOSE'][i+1]\n",
    "    except KeyError:\n",
    "        pass\n",
    "avdf = avdf.sort_index(axis = 0, level = 'DATE', ascending = False)\n",
    "avdf['DAILYRET'] = avdf['ADJ CLOSE'].pct_change()"
   ]
  },
  {
   "cell_type": "code",
   "execution_count": 242,
   "id": "588a0571-09e3-494d-8741-327c2d85851d",
   "metadata": {},
   "outputs": [],
   "source": [
    "#Joining the Pushshift data with the AlphaVantage data, and filtering the AlphaVantage\n",
    "#data to include only the date range for which there is Reddit data.\n",
    "jdf = pd.merge(avdf, nrdf, how = 'left', on = 'DATE')\n",
    "jdfInt = jdf[min(nrdf['DATE']) < jdf['DATE']]\n",
    "jdffiltered = jdfInt[jdfInt['DATE'] < max(nrdf['DATE'])]"
   ]
  },
  {
   "cell_type": "code",
   "execution_count": 243,
   "id": "c4d34719-04f9-4622-8b8f-3ffae9efb23a",
   "metadata": {},
   "outputs": [],
   "source": [
    "%matplotlib inline"
   ]
  },
  {
   "cell_type": "code",
   "execution_count": 244,
   "id": "b284d8de-6d7c-40e5-ad12-04e15ff65b12",
   "metadata": {},
   "outputs": [
    {
     "data": {
      "text/plain": [
       "Text(0.5, 1.0, 'Daily Stock Returns and Reddit Sentiment')"
      ]
     },
     "execution_count": 244,
     "metadata": {},
     "output_type": "execute_result"
    },
    {
     "data": {
      "image/png": "[encoded data removed]",
      "text/plain": [
       "<Figure size 432x288 with 2 Axes>"
      ]
     },
     "metadata": {
      "needs_background": "light"
     },
     "output_type": "display_data"
    }
   ],
   "source": [
    "#Creating a plot of the average sentiment score for each day (red) along with\n",
    "#the daily stock return (green)\n",
    "fig,ax = plt.subplots()\n",
    "plt.scatter(x = jdffiltered['DATE'], y = jdffiltered['score'], c = 'red')\n",
    "ax.set_ylim(-1, 1)\n",
    "plt.xlabel('Date')\n",
    "plt.xticks(rotation = 45)\n",
    "plt.ylabel('Average Sentiment Score')\n",
    "ax2 = ax.twinx()\n",
    "ax2.set_ylim(-max(abs(jdffiltered['DAILYRET'])) * 1.1, max(abs(jdffiltered['DAILYRET'])) * 1.1)\n",
    "plt.plot(jdffiltered.set_index('DATE')['DAILYRET'], c = 'green')\n",
    "ax2.set_ylabel('Daily Returns')\n",
    "plt.title('Daily Stock Returns and Reddit Sentiment')"
   ]
  },
  {
   "cell_type": "code",
   "execution_count": 245,
   "id": "73de5bb6-9f69-4bae-9e6d-685e59069907",
   "metadata": {},
   "outputs": [
    {
     "data": {
      "image/png": "[encoded data removed]",
      "text/plain": [
       "<Figure size 432x288 with 1 Axes>"
      ]
     },
     "metadata": {
      "needs_background": "light"
     },
     "output_type": "display_data"
    }
   ],
   "source": [
    "#Creating a scatterplot of sentiment scores against daily stock returns to see any\n",
    "#potential correlation between them.\n",
    "plt.scatter(x = jdffiltered['DAILYRET'], y = jdffiltered['score'], c = 'red')\n",
    "plt.xlabel('Daily Return')\n",
    "plt.ylabel('Average Sentiment Score')\n",
    "plt.title('Scatterplot of Daily Sentiment Scores Against Returns')\n",
    "try:\n",
    "    lineM, lineB = np.polyfit(jdffiltered['DAILYRET'], jdffiltered['score'], 1)\n",
    "    plt.plot(jdffiltered['DAILYRET'], lineM * jdffiltered['DAILYRET'] + lineB, c = 'black')\n",
    "except:\n",
    "    print('Best fit line could not be displayed.')"
   ]
  },
  {
   "cell_type": "code",
   "execution_count": 246,
   "id": "1fb9bbd7-7719-4b4f-a13f-49610ed889d1",
   "metadata": {},
   "outputs": [
    {
     "data": {
      "text/plain": [
       "0.22492850892068347"
      ]
     },
     "execution_count": 246,
     "metadata": {},
     "output_type": "execute_result"
    }
   ],
   "source": [
    "#Correlation between sentiment and daily stock returns.\n",
    "jdffiltered.corr()['DAILYRET']['score']"
   ]
  }
 ],
 "metadata": {
  "kernelspec": {
   "display_name": "Python 3",
   "language": "python",
   "name": "python3"
  },
  "language_info": {
   "codemirror_mode": {
    "name": "ipython",
    "version": 3
   },
   "file_extension": ".py",
   "mimetype": "text/x-python",
   "name": "python",
   "nbconvert_exporter": "python",
   "pygments_lexer": "ipython3",
   "version": "3.8.8"
  }
 },
 "nbformat": 4,
 "nbformat_minor": 5
}
